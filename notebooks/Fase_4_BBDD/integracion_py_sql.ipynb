{
 "cells": [
  {
   "cell_type": "code",
   "execution_count": 1,
   "id": "3b5b23aa",
   "metadata": {},
   "outputs": [
    {
     "name": "stdout",
     "output_type": "stream",
     "text": [
      "Tabla 'Departamento' creada.\n",
      "Tabla 'Puesto' creada.\n",
      "Tabla 'Educacion_Nivel_Campo' creada.\n",
      "Tabla 'Empleados' creada con todas las FKs.\n",
      "Tabla 'Nivel_Satisfaccion' creada.\n",
      "Tabla 'Condiciones_Laborales' creada.\n",
      "Datos insertados en tabla 'Departamento'.\n",
      "Datos insertados en tabla 'Puesto'.\n",
      "Datos insertados en tabla 'Educación'.\n",
      "Tabla 'Empleados' creada con todas las FKs.\n",
      "Datos insertados en tabla 'Nivel_Satisfaccion'.\n",
      "Datos insertados en tabla 'Condiciones_Laborales'.\n"
     ]
    }
   ],
   "source": [
    "# Importamos las bibliotecas y conectores necesarios\n",
    "\n",
    "import mysql.connector\n",
    "from mysql.connector import errorcode\n",
    "\n",
    "import pandas as pd\n",
    "\n",
    "# Importamos nuestras bibliotecas\n",
    "\n",
    "import funciones_bbdd as bbdd\n",
    "import funciones_soporte_queries as query"
   ]
  },
  {
   "cell_type": "code",
   "execution_count": 2,
   "id": "13c71658",
   "metadata": {},
   "outputs": [
    {
     "name": "stdout",
     "output_type": "stream",
     "text": [
      "¡Conexión exitosa a MySQL!\n",
      " Variable 'cnx' creada.\n"
     ]
    }
   ],
   "source": [
    "# Conectamos Phyton a mySQL con manejo de errores\n",
    "cnx = bbdd.conexion_servidor('AlumnaAdalab')"
   ]
  },
  {
   "cell_type": "code",
   "execution_count": 3,
   "id": "bf8aa10a",
   "metadata": {},
   "outputs": [
    {
     "name": "stdout",
     "output_type": "stream",
     "text": [
      "BBDD creada correctamente.\n",
      "Variable 'mycursor' creada.\n"
     ]
    }
   ],
   "source": [
    "# Creamos el schema en mySQL con manejo de errores\n",
    "mycursor = bbdd.creacion_bbdd(cnx,query.query_creacion_bbdd, query.query_moverse_bbdd)"
   ]
  },
  {
   "cell_type": "code",
   "execution_count": 3,
   "id": "cf42e634",
   "metadata": {},
   "outputs": [
    {
     "name": "stdout",
     "output_type": "stream",
     "text": [
      "Variable 'mycursor' creada.\n",
      "Estamos en la bbdd indicada\n"
     ]
    }
   ],
   "source": [
    "# Accedemos a la bbdd que queramos --> optimizacion_talento\n",
    "mycursor= bbdd.acceso_bbdd(cnx, 'optimizacion_talento')"
   ]
  },
  {
   "cell_type": "code",
   "execution_count": 4,
   "id": "a48c7ccc",
   "metadata": {},
   "outputs": [
    {
     "name": "stdout",
     "output_type": "stream",
     "text": [
      "Tenemos 1614 empleados.\n",
      "Estructura del df:\n"
     ]
    },
    {
     "data": {
      "text/html": [
       "<div>\n",
       "<style scoped>\n",
       "    .dataframe tbody tr th:only-of-type {\n",
       "        vertical-align: middle;\n",
       "    }\n",
       "\n",
       "    .dataframe tbody tr th {\n",
       "        vertical-align: top;\n",
       "    }\n",
       "\n",
       "    .dataframe thead th {\n",
       "        text-align: right;\n",
       "    }\n",
       "</style>\n",
       "<table border=\"1\" class=\"dataframe\">\n",
       "  <thead>\n",
       "    <tr style=\"text-align: right;\">\n",
       "      <th></th>\n",
       "      <th>age</th>\n",
       "      <th>attrition</th>\n",
       "      <th>businesstravel</th>\n",
       "      <th>department</th>\n",
       "      <th>distancefromhome</th>\n",
       "      <th>education</th>\n",
       "      <th>educationfield</th>\n",
       "      <th>employeenumber</th>\n",
       "      <th>environmentsatisfaction</th>\n",
       "      <th>gender</th>\n",
       "      <th>...</th>\n",
       "      <th>relationshipsatisfaction</th>\n",
       "      <th>stockoptionlevel</th>\n",
       "      <th>trainingtimeslastyear</th>\n",
       "      <th>worklifebalance</th>\n",
       "      <th>yearsatcompany</th>\n",
       "      <th>yearssincelastpromotion</th>\n",
       "      <th>yearswithcurrmanager</th>\n",
       "      <th>datebirth</th>\n",
       "      <th>salary</th>\n",
       "      <th>remotework</th>\n",
       "    </tr>\n",
       "  </thead>\n",
       "  <tbody>\n",
       "    <tr>\n",
       "      <th>0</th>\n",
       "      <td>51</td>\n",
       "      <td>No</td>\n",
       "      <td>No Travel</td>\n",
       "      <td>Research &amp; Development</td>\n",
       "      <td>6</td>\n",
       "      <td>3</td>\n",
       "      <td>Other</td>\n",
       "      <td>1</td>\n",
       "      <td>1</td>\n",
       "      <td>Female</td>\n",
       "      <td>...</td>\n",
       "      <td>3</td>\n",
       "      <td>0</td>\n",
       "      <td>5</td>\n",
       "      <td>3</td>\n",
       "      <td>20</td>\n",
       "      <td>15</td>\n",
       "      <td>15</td>\n",
       "      <td>1972</td>\n",
       "      <td>195370.0</td>\n",
       "      <td>Sí</td>\n",
       "    </tr>\n",
       "    <tr>\n",
       "      <th>1</th>\n",
       "      <td>52</td>\n",
       "      <td>No</td>\n",
       "      <td>No Travel</td>\n",
       "      <td>Sales</td>\n",
       "      <td>1</td>\n",
       "      <td>4</td>\n",
       "      <td>Life Sciences</td>\n",
       "      <td>2</td>\n",
       "      <td>3</td>\n",
       "      <td>Female</td>\n",
       "      <td>...</td>\n",
       "      <td>1</td>\n",
       "      <td>1</td>\n",
       "      <td>5</td>\n",
       "      <td>3</td>\n",
       "      <td>33</td>\n",
       "      <td>11</td>\n",
       "      <td>9</td>\n",
       "      <td>1971</td>\n",
       "      <td>199990.0</td>\n",
       "      <td>Sí</td>\n",
       "    </tr>\n",
       "  </tbody>\n",
       "</table>\n",
       "<p>2 rows × 28 columns</p>\n",
       "</div>"
      ],
      "text/plain": [
       "   age attrition businesstravel              department  distancefromhome  \\\n",
       "0   51        No      No Travel  Research & Development                 6   \n",
       "1   52        No      No Travel                   Sales                 1   \n",
       "\n",
       "   education educationfield  employeenumber  environmentsatisfaction  gender  \\\n",
       "0          3          Other               1                        1  Female   \n",
       "1          4  Life Sciences               2                        3  Female   \n",
       "\n",
       "   ...  relationshipsatisfaction  stockoptionlevel trainingtimeslastyear  \\\n",
       "0  ...                         3                 0                     5   \n",
       "1  ...                         1                 1                     5   \n",
       "\n",
       "   worklifebalance yearsatcompany  yearssincelastpromotion  \\\n",
       "0                3             20                       15   \n",
       "1                3             33                       11   \n",
       "\n",
       "  yearswithcurrmanager  datebirth    salary  remotework  \n",
       "0                   15       1972  195370.0          Sí  \n",
       "1                    9       1971  199990.0          Sí  \n",
       "\n",
       "[2 rows x 28 columns]"
      ]
     },
     "metadata": {},
     "output_type": "display_data"
    }
   ],
   "source": [
    "# Abrimos el dataframe con el que vamos a trabajar para insertar los datos\n",
    "df = pd.read_csv(\"../../data/optimizacion_talento.csv\", index_col=0)\n",
    "print(f'Tenemos {df.shape[0]} empleados.\\nEstructura del df:')\n",
    "display(df.head(2))"
   ]
  },
  {
   "cell_type": "code",
   "execution_count": 5,
   "id": "3f48711c",
   "metadata": {},
   "outputs": [
    {
     "name": "stdout",
     "output_type": "stream",
     "text": [
      "Tabla creada con éxito.\n",
      "Tabla creada con éxito.\n",
      "Tabla creada con éxito.\n"
     ]
    }
   ],
   "source": [
    "# creamos las primeras tablas del schema:\n",
    "# En el archivo funciones de soporte están definidas las columnas y los tipos de datos\n",
    "\n",
    "# Tablas generales \n",
    "bbdd.creacion_tablas(mycursor,\n",
    "                     query.query_creacion_tabla_departamento,\n",
    "                     query.query_creacion_tabla_puesto,\n",
    "                     query.query_creacion_tabla_educacion,\n",
    "                     )"
   ]
  },
  {
   "cell_type": "code",
   "execution_count": 6,
   "id": "d146422e",
   "metadata": {},
   "outputs": [
    {
     "name": "stdout",
     "output_type": "stream",
     "text": [
      "Datos insertados correctamente: 3 filas.\n"
     ]
    }
   ],
   "source": [
    "# Inseramos datos --> tabla DEPARTAMENTO\n",
    "bbdd.insercion_tabla_departamento(mycursor,cnx,df)"
   ]
  },
  {
   "cell_type": "code",
   "execution_count": 7,
   "id": "103591e7",
   "metadata": {},
   "outputs": [
    {
     "name": "stdout",
     "output_type": "stream",
     "text": [
      "Datos insertados correctamente: 26 filas.\n"
     ]
    }
   ],
   "source": [
    "# Inseramos datos --> tabla PUESTO\n",
    "bbdd.insercion_tabla_puesto(mycursor,cnx,df)"
   ]
  },
  {
   "cell_type": "code",
   "execution_count": 8,
   "id": "f504d8cc",
   "metadata": {},
   "outputs": [
    {
     "name": "stdout",
     "output_type": "stream",
     "text": [
      "Datos insertados correctamente: 29 filas.\n"
     ]
    }
   ],
   "source": [
    "# Inseramos datos --> tabla EDUCACION\n",
    "bbdd.insercion_tabla_educacion(mycursor,cnx,df)"
   ]
  },
  {
   "cell_type": "code",
   "execution_count": 5,
   "id": "69ba27f8",
   "metadata": {},
   "outputs": [
    {
     "name": "stdout",
     "output_type": "stream",
     "text": [
      "Tabla creada con éxito.\n"
     ]
    }
   ],
   "source": [
    "# creamos las siguientes tablas del schema:\n",
    "# En el archivo funciones de soporte están definidas las columnas y los tipos de datos\n",
    "\n",
    "# Tabla principal: PK y FKs\n",
    "bbdd.creacion_tablas(mycursor,\n",
    "                    query.query_creacion_tabla_empleados)"
   ]
  },
  {
   "cell_type": "code",
   "execution_count": 7,
   "id": "8c9bf1ee",
   "metadata": {},
   "outputs": [
    {
     "name": "stdout",
     "output_type": "stream",
     "text": [
      "Tabla creada con éxito.\n",
      "Tabla creada con éxito.\n"
     ]
    }
   ],
   "source": [
    "# Tablas generales con dependencias con otras tablas: FKs\n",
    "bbdd.creacion_tablas(mycursor,\n",
    "                     query.query_creacion_tabla_nivel_satisfaccion,\n",
    "                     query.query_creacion_tabla_condiciones_laborales,\n",
    "                     )"
   ]
  },
  {
   "cell_type": "markdown",
   "id": "e7251d94",
   "metadata": {},
   "source": [
    "--> me he quedado aquí :("
   ]
  },
  {
   "cell_type": "code",
   "execution_count": 5,
   "id": "00ea8cb9",
   "metadata": {},
   "outputs": [
    {
     "name": "stdout",
     "output_type": "stream",
     "text": [
      "No se ha podido realizar la inserción:\n",
      "Failed executing the operation; Not all parameters were used in the SQL statement\n"
     ]
    }
   ],
   "source": [
    "# Inseramos datos --> tabla EMPLEADOS:\n",
    "# necesitamos datos de Departamento, Puesto y Educacion_Nivel_Campo\n",
    "bbdd.insercion_tabla_empleados(mycursor,cnx,df)"
   ]
  },
  {
   "cell_type": "code",
   "execution_count": 6,
   "id": "264cf707",
   "metadata": {},
   "outputs": [
    {
     "name": "stdout",
     "output_type": "stream",
     "text": [
      "Conexión cerrada.\n"
     ]
    }
   ],
   "source": [
    "# Cerramos conexión\n",
    "bbdd.cerrar_conexion(cnx)"
   ]
  }
 ],
 "metadata": {
  "kernelspec": {
   "display_name": "Python (K_Adalab)",
   "language": "python",
   "name": "k_adalab"
  },
  "language_info": {
   "codemirror_mode": {
    "name": "ipython",
    "version": 3
   },
   "file_extension": ".py",
   "mimetype": "text/x-python",
   "name": "python",
   "nbconvert_exporter": "python",
   "pygments_lexer": "ipython3",
   "version": "3.13.7"
  }
 },
 "nbformat": 4,
 "nbformat_minor": 5
}
