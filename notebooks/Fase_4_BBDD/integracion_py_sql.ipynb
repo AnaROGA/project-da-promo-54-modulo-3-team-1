{
 "cells": [
  {
   "cell_type": "code",
   "execution_count": 1,
   "id": "3b5b23aa",
   "metadata": {},
   "outputs": [
    {
     "name": "stdout",
     "output_type": "stream",
     "text": [
      "Tabla 'Departamento' creada.\n",
      "Tabla 'Puesto' creada.\n",
      "Tabla 'Educacion_Nivel_Campo' creada.\n",
      "Tabla 'Nivel_Satisfaccion' creada.\n",
      "Tabla 'Condiciones_Laborales' creada.\n",
      "Tabla 'Empleados' creada con todas las FKs.\n"
     ]
    }
   ],
   "source": [
    "# importamos las bibliotecas y conectores necesarios\n",
    "\n",
    "import mysql.connector\n",
    "from mysql.connector import errorcode\n",
    "\n",
    "import pandas as pd\n",
    "\n",
    "# Importamos nuestras bibliotecas\n",
    "import funciones_bbdd as bbdd\n",
    "import funciones_soporte_queries as query"
   ]
  },
  {
   "cell_type": "code",
   "execution_count": 2,
   "id": "13c71658",
   "metadata": {},
   "outputs": [
    {
     "name": "stdout",
     "output_type": "stream",
     "text": [
      "¡Conexión exitosa a MySQL!\n",
      " Variable 'cnx' creada.\n"
     ]
    }
   ],
   "source": [
    "# conectamos Phyton a mySQL con manejo de errores\n",
    "cnx = bbdd.conexion_servidor('AlumnaAdalab')"
   ]
  },
  {
   "cell_type": "markdown",
   "id": "cf42e634",
   "metadata": {},
   "source": [
    "mycursor= bbdd.acceso_bbdd(cnx, 'USE ejercicios_6;')"
   ]
  },
  {
   "cell_type": "markdown",
   "id": "1d6b4ee7",
   "metadata": {},
   "source": [
    "bbdd.creacion_tablas(mycursor, \n",
    "                     query.query_creacion_tabla_condiciones_laborales, \n",
    "                     query.query_creacion_tabla_puesto)"
   ]
  },
  {
   "cell_type": "code",
   "execution_count": 3,
   "id": "bf8aa10a",
   "metadata": {},
   "outputs": [
    {
     "name": "stdout",
     "output_type": "stream",
     "text": [
      "BBDD creada correctamente.\n",
      "Variable 'mycursor' creada.\n"
     ]
    }
   ],
   "source": [
    "# creamos el schema en mySQL con manejo de errores\n",
    "mycursor = bbdd.creacion_bbdd(cnx,query.query_creacion_bbdd, query.query_moverse_bbdd)"
   ]
  },
  {
   "cell_type": "code",
   "execution_count": 4,
   "id": "264cf707",
   "metadata": {},
   "outputs": [
    {
     "name": "stdout",
     "output_type": "stream",
     "text": [
      "Conexión cerrada.\n"
     ]
    }
   ],
   "source": [
    "bbdd.cerrar_conexion(cnx)"
   ]
  },
  {
   "cell_type": "code",
   "execution_count": 5,
   "id": "3f48711c",
   "metadata": {},
   "outputs": [],
   "source": [
    "# creamos las tablas del schema:\n",
    "# En el archivo funciones de soporte están definidas las columnas y los tipos de datos\n",
    "\n",
    "# bbdd.creacion_tablas(mycursor,\n",
    "#                      query.)\n"
   ]
  }
 ],
 "metadata": {
  "kernelspec": {
   "display_name": "Python (K_Adalab)",
   "language": "python",
   "name": "k_adalab"
  },
  "language_info": {
   "codemirror_mode": {
    "name": "ipython",
    "version": 3
   },
   "file_extension": ".py",
   "mimetype": "text/x-python",
   "name": "python",
   "nbconvert_exporter": "python",
   "pygments_lexer": "ipython3",
   "version": "3.13.7"
  }
 },
 "nbformat": 4,
 "nbformat_minor": 5
}
