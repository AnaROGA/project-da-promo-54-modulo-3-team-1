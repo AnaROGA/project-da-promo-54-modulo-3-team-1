{
 "cells": [
  {
   "cell_type": "code",
   "execution_count": 1,
   "id": "3b5b23aa",
   "metadata": {},
   "outputs": [],
   "source": [
    "# importamos las bibliotecas y conectores necesarios\n",
    "\n",
    "import mysql.connector\n",
    "from mysql.connector import errorcode\n",
    "\n",
    "import pandas as pd"
   ]
  },
  {
   "cell_type": "code",
   "execution_count": 3,
   "id": "13c71658",
   "metadata": {},
   "outputs": [
    {
     "name": "stdout",
     "output_type": "stream",
     "text": [
      "¡Conexión exitosa a MySQL!\n",
      "Conexión cerrada.\n"
     ]
    }
   ],
   "source": [
    "# conectamos Phyton a mySQL con manejo de errores\n",
    "\n",
    "try:\n",
    "    # Intenta hacer la conexión con SQL\n",
    "    cnx = mysql.connector.connect(\n",
    "        user='root',\n",
    "        password='AlumnaAdalab',\n",
    "        host='127.0.0.1'\n",
    "    )\n",
    "    print(\"¡Conexión exitosa a MySQL!\") # si es exitosa lo informa\n",
    "\n",
    "# definimos los posibles errores y su manejo\n",
    "except mysql.connector.Error as err:\n",
    "    # Si es un error de acceso denegado (ej. contraseña o usuario incorrecto)\n",
    "    if err.errno == errorcode.ER_ACCESS_DENIED_ERROR:\n",
    "        print(\"Algo está mal con tu nombre de usuario o contraseña.\") # informa el error encontrado\n",
    "    # Si la base de datos no existe\n",
    "    elif err.errno == errorcode.ER_BAD_DB_ERROR:\n",
    "        print(\"La base de datos no existe.\") # informa el error encontrado\n",
    "    # Para cualquier otro tipo de error\n",
    "    else:\n",
    "        print(err) # informa del error\n",
    "        print(\"Código de Error:\", err.errno) # informa el código del error\n",
    "        print(\"SQLSTATE\", err.sqlstate) # informa el estado de conexión\n",
    "        print(\"Mensaje\", err.msg)\n",
    "else:\n",
    "    # Si la conexión fue exitosa, cierra la conexión y lo informa\n",
    "    cnx.close()\n",
    "    print(\"Conexión cerrada.\")"
   ]
  },
  {
   "cell_type": "code",
   "execution_count": 4,
   "id": "bf8aa10a",
   "metadata": {},
   "outputs": [
    {
     "name": "stdout",
     "output_type": "stream",
     "text": [
      "Base de datos 'optimizacion_talento' creada exitosamente.\n"
     ]
    }
   ],
   "source": [
    "# creamos el schema en mySQL con manejo de errores\n",
    "\n",
    "cnx = mysql.connector.connect(     # abrimos la conexión\n",
    "    user='root',\n",
    "    password='AlumnaAdalab',\n",
    "    host='127.0.0.1'\n",
    ")\n",
    "\n",
    "mycursor = cnx.cursor()     # establecemos el cursos\n",
    "\n",
    "try:\n",
    "    mycursor.execute(\"CREATE DATABASE optimizacion_talento\")       # creamos el schema necesario\n",
    "    print(\"Base de datos 'optimizacion_talento' creada exitosamente.\")     # informa el resultado del mismo\n",
    "except mysql.connector.Error as err:         # definimos el manejo de errores\n",
    "    print(err)\n",
    "    print(\"Código de Error:\", err.errno)\n",
    "    print(\"SQLSTATE\", err.sqlstate)\n",
    "    print(\"Mensaje\", err.msg)\n",
    "\n",
    "cnx.close()             # cerramos la conexion"
   ]
  },
  {
   "cell_type": "code",
   "execution_count": 5,
   "id": "3f48711c",
   "metadata": {},
   "outputs": [
    {
     "name": "stdout",
     "output_type": "stream",
     "text": [
      "Tabla 'Departamento' creada.\n",
      "Tabla 'Puesto' creada.\n",
      "Tabla 'Educacion_Nivel_Campo' creada.\n",
      "Tabla 'Empleados' creada con todas las FKs.\n",
      "\n",
      "¡Las 4 tablas de la base de datos 'optimizacion_talento' se han creado con éxito!\n"
     ]
    }
   ],
   "source": [
    "# creamos las tablas del schema definiendo las columnas y los tipos de datos\n",
    "\n",
    "cnx = mysql.connector.connect(\n",
    "    user='root',\n",
    "    password='AlumnaAdalab',\n",
    "    host='127.0.0.1',\n",
    "    database='musicstream' \n",
    ")\n",
    "\n",
    "cursor = cnx.cursor()\n",
    "\n",
    "# Tabla A: Departamento\n",
    "cursor.execute(\"\"\"\n",
    "CREATE TABLE IF NOT EXISTS Departamento (\n",
    "  DepartamentoID INT AUTO_INCREMENT PRIMARY KEY,\n",
    "  NombreDepartamento VARCHAR(100) NOT NULL UNIQUE\n",
    ")\"\"\")\n",
    "print(\"Tabla 'Departamento' creada.\")\n",
    "\n",
    "# Tabla B: Puesto\n",
    "cursor.execute(\"\"\"\n",
    "CREATE TABLE IF NOT EXISTS Puesto (\n",
    "  PuestoID INT AUTO_INCREMENT PRIMARY KEY,\n",
    "  NombrePuesto VARCHAR(100) NOT NULL UNIQUE\n",
    ")\"\"\")\n",
    "print(\"Tabla 'Puesto' creada.\")\n",
    "\n",
    "# Tabla C: Educacion_Nivel_Campo\n",
    "cursor.execute(\"\"\"\n",
    "CREATE TABLE IF NOT EXISTS Educacion_Nivel_Campo (\n",
    "  EducacionID INT AUTO_INCREMENT PRIMARY KEY,\n",
    "  Nivel INT NOT NULL, \n",
    "  Campo VARCHAR(100) NOT NULL, \n",
    "  UNIQUE KEY UQ_Nivel_Campo (Nivel, Campo)\n",
    ")\"\"\")\n",
    "print(\"Tabla 'Educacion_Nivel_Campo' creada.\")\n",
    "\n",
    "# --- 3. DEFINICIÓN DE TABLA CENTRAL (Con FKs) ---\n",
    "\n",
    "# Tabla D: Empleados (Tabla Central)\n",
    "cursor.execute(\"\"\"\n",
    "CREATE TABLE IF NOT EXISTS Empleados (\n",
    "    EmployeeID INT AUTO_INCREMENT PRIMARY KEY,\n",
    "    EmployeeNumber_CSV INT UNIQUE NOT NULL, \n",
    "    \n",
    "    -- Claves Foráneas\n",
    "    Departamento_FK INT NOT NULL,\n",
    "    Puesto_FK INT NOT NULL,\n",
    "    Educacion_FK INT NOT NULL,\n",
    "    \n",
    "    -- Atributos restantes del CSV\n",
    "    Age INT NOT NULL,\n",
    "    Attrition VARCHAR(3),\n",
    "    BusinessTravel VARCHAR(50),\n",
    "    DailyRate DECIMAL(10, 2),\n",
    "    DistanceFromHome INT,\n",
    "    EnvironmentSatisfaction INT,\n",
    "    Gender VARCHAR(10),\n",
    "    JobInvolvement INT,\n",
    "    JobLevel INT,\n",
    "    JobSatisfaction INT,\n",
    "    MaritalStatus VARCHAR(20),\n",
    "    MonthlyIncome DECIMAL(10, 2),\n",
    "    MonthlyRate DECIMAL(10, 2),\n",
    "    NumCompaniesWorked INT,\n",
    "    OverTime VARCHAR(10),\n",
    "    PercentSalaryHike INT,\n",
    "    RelationshipSatisfaction INT,\n",
    "    StockOptionLevel INT,\n",
    "    TrainingTimesLastYear INT,\n",
    "    YearsAtCompany INT,\n",
    "    YearsSinceLastPromotion INT,\n",
    "    YearsWithCurrManager INT,\n",
    "    DateBirth YEAR, \n",
    "    Salary DECIMAL(10, 2),\n",
    "    RemoteWork VARCHAR(3),\n",
    "    \n",
    "    -- Definición de Relaciones de Claves Foráneas\n",
    "    FOREIGN KEY (Departamento_FK) REFERENCES Departamento(DepartamentoID) ON DELETE RESTRICT ON UPDATE CASCADE,\n",
    "    FOREIGN KEY (Puesto_FK) REFERENCES Puesto(PuestoID) ON DELETE RESTRICT ON UPDATE CASCADE,\n",
    "    FOREIGN KEY (Educacion_FK) REFERENCES Educacion_Nivel_Campo(EducacionID) ON DELETE RESTRICT ON UPDATE CASCADE\n",
    ")\"\"\")\n",
    "print(\"Tabla 'Empleados' creada con todas las FKs.\")\n",
    "\n",
    "# --- CIERRE DE CONEXIÓN ---\n",
    "cnx.commit()\n",
    "cursor.close()\n",
    "cnx.close()\n",
    "print(\"\\n¡Las 4 tablas de la base de datos 'optimizacion_talento' se han creado con éxito!\")"
   ]
  }
 ],
 "metadata": {
  "kernelspec": {
   "display_name": "base",
   "language": "python",
   "name": "python3"
  },
  "language_info": {
   "codemirror_mode": {
    "name": "ipython",
    "version": 3
   },
   "file_extension": ".py",
   "mimetype": "text/x-python",
   "name": "python",
   "nbconvert_exporter": "python",
   "pygments_lexer": "ipython3",
   "version": "3.12.7"
  }
 },
 "nbformat": 4,
 "nbformat_minor": 5
}
